{
 "cells": [
  {
   "cell_type": "code",
   "execution_count": 1,
   "metadata": {},
   "outputs": [],
   "source": [
    "## Uncomment and run if jupyter-dash is not yet installed\n",
    "## !pip install jupyter-dash"
   ]
  },
  {
   "cell_type": "code",
   "execution_count": 2,
   "metadata": {},
   "outputs": [],
   "source": [
    "import pandas as pd\n",
    "import numpy as np\n",
    "from jupyter_dash import JupyterDash\n",
    "from dash import Dash, html, dcc, Input, Output, dash_table, State\n",
    "import plotly.graph_objs as go\n",
    "import plotly.express as px"
   ]
  },
  {
   "cell_type": "code",
   "execution_count": 3,
   "metadata": {},
   "outputs": [],
   "source": [
    "assessments = pd.read_csv('dataset/assessments.csv')\n",
    "courses = pd.read_csv('dataset/courses.csv')\n",
    "studentAssessment = pd.read_csv('dataset/studentAssessment.csv')\n",
    "studentInfo = pd.read_csv('dataset/studentInfo.csv')\n",
    "studentRegistration = pd.read_csv('dataset/studentRegistration.csv')\n",
    "studentVle = pd.read_csv('dataset/studentVle.csv')\n",
    "vle = pd.read_csv('dataset/vle.csv')"
   ]
  },
  {
   "cell_type": "code",
   "execution_count": 4,
   "metadata": {
    "scrolled": true
   },
   "outputs": [
    {
     "data": {
      "text/html": [
       "\n",
       "        <iframe\n",
       "            width=\"100%\"\n",
       "            height=\"650\"\n",
       "            src=\"http://127.0.0.1:8100/\"\n",
       "            frameborder=\"0\"\n",
       "            allowfullscreen\n",
       "        ></iframe>\n",
       "        "
      ],
      "text/plain": [
       "<IPython.lib.display.IFrame at 0x21e851f80a0>"
      ]
     },
     "metadata": {},
     "output_type": "display_data"
    }
   ],
   "source": [
    "app_table = JupyterDash(__name__)\n",
    "\n",
    "# Create server variable with Flask server object for use with gunicorn\n",
    "server = app_table.server\n",
    "\n",
    "\n",
    "app_table.layout = html.Div([\n",
    "            # Create a html title for the dashboard\n",
    "            html.H2(\"Student Information\"),\n",
    "    \n",
    "            # Output a table of students\n",
    "            dash_table.DataTable(\n",
    "                id='si_table',\n",
    "                columns=[{\"name\": i, \"id\": i} for i in studentInfo.columns],\n",
    "                data = studentInfo.to_dict('records'),\n",
    "                filter_action=\"native\",\n",
    "                sort_action=\"native\",\n",
    "                sort_mode=\"multi\",\n",
    "                page_size = 10 \n",
    "            ),\n",
    "            html.H2(\"Student Grades\"),\n",
    "            dash_table.DataTable(\n",
    "                id='student_grades',\n",
    "                columns=[{\"name\": i, \"id\": i} for i in studentAssessment.columns],\n",
    "                data = studentAssessment.to_dict('records'),\n",
    "                filter_action=\"native\",\n",
    "                sort_action=\"native\",\n",
    "                sort_mode=\"multi\",\n",
    "                page_size = 10)\n",
    "])\n",
    "\n",
    "\n",
    "\n",
    "# Run the app\n",
    "app_table.run_server(mode=\"inline\", port = 8100)"
   ]
  },
  {
   "cell_type": "code",
   "execution_count": 5,
   "metadata": {
    "scrolled": true
   },
   "outputs": [
    {
     "data": {
      "text/html": [
       "\n",
       "        <iframe\n",
       "            width=\"100%\"\n",
       "            height=\"650\"\n",
       "            src=\"http://127.0.0.1:8100/\"\n",
       "            frameborder=\"0\"\n",
       "            allowfullscreen\n",
       "        ></iframe>\n",
       "        "
      ],
      "text/plain": [
       "<IPython.lib.display.IFrame at 0x21eaa7f0190>"
      ]
     },
     "metadata": {},
     "output_type": "display_data"
    },
    {
     "name": "stderr",
     "output_type": "stream",
     "text": [
      "C:\\Users\\Susannah\\anaconda3\\envs\\py3env\\lib\\site-packages\\pandas\\core\\ops\\array_ops.py:253: FutureWarning:\n",
      "\n",
      "elementwise comparison failed; returning scalar instead, but in the future will perform elementwise comparison\n",
      "\n"
     ]
    }
   ],
   "source": [
    "app_graph = JupyterDash(__name__)\n",
    "\n",
    "# Create server variable with Flask server object for use with gunicorn\n",
    "server = app_graph.server\n",
    "\n",
    "available_indicators = studentAssessment['id_assessment'].unique()\n",
    "\n",
    "app_graph.layout = html.Div([\n",
    "    html.H2(\"Assignment Grade Spread by Submitted Date\"),\n",
    "    dcc.Dropdown(\n",
    "        id=\"filter\",\n",
    "        options=[{'label': i, 'value': i} for i in available_indicators],\n",
    "        value=\"Assignment\"\n",
    "    ),\n",
    "    \n",
    "    html.Div([\n",
    "        dcc.Graph(\n",
    "            id='assignment-graph')\n",
    "    ])\n",
    "])\n",
    "\n",
    "@app_graph.callback(\n",
    "    Output('assignment-graph', 'figure'),\n",
    "    Input('filter', 'value'))\n",
    "\n",
    "def update_graph(value):\n",
    "    assignment_df = studentAssessment[studentAssessment['id_assessment'] == value]\n",
    "    # score on Y axis, date_submitted on X axis\n",
    "    figure = px.scatter(assignment_df,\n",
    "                       x=\"date_submitted\",\n",
    "                       y=\"score\")\n",
    "    \n",
    "    return figure\n",
    "\n",
    "\n",
    "\n",
    "\n",
    "\n",
    "# Run the app\n",
    "app_graph.run_server(mode=\"inline\", port = 8100)"
   ]
  },
  {
   "cell_type": "code",
   "execution_count": null,
   "metadata": {},
   "outputs": [],
   "source": []
  }
 ],
 "metadata": {
  "kernelspec": {
   "display_name": "Python 3",
   "language": "python",
   "name": "python3"
  },
  "language_info": {
   "codemirror_mode": {
    "name": "ipython",
    "version": 3
   },
   "file_extension": ".py",
   "mimetype": "text/x-python",
   "name": "python",
   "nbconvert_exporter": "python",
   "pygments_lexer": "ipython3",
   "version": "3.8.3"
  }
 },
 "nbformat": 4,
 "nbformat_minor": 4
}
