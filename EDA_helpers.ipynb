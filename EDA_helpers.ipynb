{
 "cells": [
  {
   "cell_type": "code",
   "execution_count": 2,
   "metadata": {},
   "outputs": [],
   "source": [
    "import matplotlib.pyplot as plt\n",
    "import pandas as pd\n",
    "import numpy as np"
   ]
  },
  {
   "cell_type": "code",
   "execution_count": 3,
   "metadata": {},
   "outputs": [],
   "source": [
    "def explore_numeric_hist(df, col_name, axis, display_labels=True):\n",
    "    _,_, patches = axis.hist(df[col_name])\n",
    "    axis.set_title(col_name)\n",
    "    axis.set_ylabel(\"count\")\n",
    "\n",
    "    if display_labels:\n",
    "        add_labels(patches, axis)\n",
    "\n",
    "\n",
    "def add_labels(patches, axis):\n",
    "    # add in labels\n",
    "    max_tick = max(np.abs(axis.get_yticks()))\n",
    "    for p in patches:\n",
    "        x,_ = p.get_xy()\n",
    "        y = p.get_height()\n",
    "        width = p.get_width()\n",
    "        v_adjust = max_tick*0.01\n",
    "        axis.text(x+width/2,y+ v_adjust,str(int(y)), ha='center')\n",
    "    # increase y-axis limit to accomodate text\n",
    "    ylim = axis.get_ylim()\n",
    "    axis.set_ylim(ylim[0],ylim[1]*1.05)\n",
    "    \n",
    "def explore_bar(df, col_name, axis, display_labels=True):\n",
    "    df[col_name].value_counts().plot(kind='bar',ax=axis)\n",
    "    axis.set_title(col_name)\n",
    "    axis.set_ylabel(\"count\")\n",
    "    \n",
    "    # add in labels\n",
    "    if display_labels:\n",
    "        patches = axis.patches\n",
    "        add_labels(patches, axis)\n",
    "\n",
    "def explore_col(df, col_name, axis, display_labels=True):\n",
    "    if (pd.api.types.is_string_dtype(df[col_name])):\n",
    "        explore_bar(df, col_name, axis, display_labels)\n",
    "        return\n",
    "    if (pd.api.types.is_numeric_dtype(df[col_name])):\n",
    "        explore_numeric_hist(df, col_name, axis, display_labels)\n",
    "        return\n",
    "\n",
    "def explore_df(df, num_display_cols=4, single_chart_width=6, single_chart_height=4, display_labels=True):\n",
    "    #num_cols = num_display_cols\n",
    "    num_cols_total = len(df.columns)\n",
    "    num_display_rows = num_cols_total//num_display_cols +1\n",
    "    fig, axs = plt.subplots(num_display_rows, num_display_cols)\n",
    "    fig.set_size_inches((single_chart_width*num_display_cols, single_chart_height*num_display_rows))\n",
    "    fig.subplots_adjust(hspace=1)\n",
    "\n",
    "    axes_index = 0\n",
    "    for col in df.columns:\n",
    "        if num_cols_total >= num_display_cols:\n",
    "            curr_axs = axs[axes_index//num_display_cols, axes_index%num_display_cols]\n",
    "        else:\n",
    "            curr_axs = axs[axes_index]\n",
    "        explore_col(df, col, curr_axs, display_labels)\n",
    "        axes_index += 1\n",
    "    \n",
    "    # remove excess plots\n",
    "    for index in range(num_cols_total, num_display_cols*num_display_rows):\n",
    "        if num_cols_total >= num_display_cols:\n",
    "            curr_axs = axs[index//num_display_cols, index%num_display_cols]\n",
    "        else:\n",
    "            curr_axs = axs[index]\n",
    "        fig.delaxes(curr_axs)"
   ]
  },
  {
   "cell_type": "code",
   "execution_count": null,
   "metadata": {},
   "outputs": [],
   "source": []
  }
 ],
 "metadata": {
  "kernelspec": {
   "display_name": "Python 3.9.7 64-bit",
   "language": "python",
   "name": "python3"
  },
  "language_info": {
   "codemirror_mode": {
    "name": "ipython",
    "version": 3
   },
   "file_extension": ".py",
   "mimetype": "text/x-python",
   "name": "python",
   "nbconvert_exporter": "python",
   "pygments_lexer": "ipython3",
   "version": "3.9.7"
  },
  "orig_nbformat": 4,
  "vscode": {
   "interpreter": {
    "hash": "b17d814cd49a97bd4e14d672f8ef5b7f52bf6cf14a94e3516b4cedf43844dda1"
   }
  }
 },
 "nbformat": 4,
 "nbformat_minor": 2
}
