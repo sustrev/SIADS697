{
 "cells": [
  {
   "cell_type": "code",
   "execution_count": 2,
   "metadata": {},
   "outputs": [],
   "source": [
    "import pandas as pd\n",
    "import numpy as np\n",
    "import matplotlib.pyplot as plt"
   ]
  },
  {
   "cell_type": "code",
   "execution_count": 3,
   "metadata": {},
   "outputs": [],
   "source": [
    "assessments_raw = pd.read_csv(\"dataset/assessments.csv\")\n",
    "courses_raw = pd.read_csv(\"dataset/courses.csv\")\n",
    "student_assessment_raw = pd.read_csv(\"dataset/studentAssessment.csv\")\n",
    "student_info_raw = pd.read_csv(\"dataset/studentInfo.csv\")\n",
    "student_registration_raw = pd.read_csv(\"dataset/studentRegistration.csv\")\n",
    "# If this is failing, ensure that you have downloaded the dataset and copied studentVle.csv \n",
    "# to the dataset folder.\n",
    "student_vle_raw = pd.read_csv(\"dataset/studentVle.csv\") \n",
    "vle_raw = pd.read_csv(\"dataset/vle.csv\")"
   ]
  },
  {
   "cell_type": "code",
   "execution_count": 4,
   "metadata": {},
   "outputs": [
    {
     "name": "stdout",
     "output_type": "stream",
     "text": [
      "Index(['id_assessment', 'id_student', 'date_submitted', 'is_banked', 'score'], dtype='object')\n",
      "Index(['code_module', 'code_presentation', 'id_assessment', 'assessment_type',\n",
      "       'date', 'weight'],\n",
      "      dtype='object')\n"
     ]
    }
   ],
   "source": [
    "print(student_assessment_raw.columns)\n",
    "print(assessments_raw.columns)\n"
   ]
  },
  {
   "cell_type": "code",
   "execution_count": 5,
   "metadata": {},
   "outputs": [
    {
     "data": {
      "text/html": [
       "<div>\n",
       "<style scoped>\n",
       "    .dataframe tbody tr th:only-of-type {\n",
       "        vertical-align: middle;\n",
       "    }\n",
       "\n",
       "    .dataframe tbody tr th {\n",
       "        vertical-align: top;\n",
       "    }\n",
       "\n",
       "    .dataframe thead th {\n",
       "        text-align: right;\n",
       "    }\n",
       "</style>\n",
       "<table border=\"1\" class=\"dataframe\">\n",
       "  <thead>\n",
       "    <tr style=\"text-align: right;\">\n",
       "      <th></th>\n",
       "      <th>code_module</th>\n",
       "      <th>code_presentation</th>\n",
       "      <th>id_student</th>\n",
       "      <th>gender</th>\n",
       "      <th>highest_education</th>\n",
       "      <th>age_band</th>\n",
       "      <th>num_of_prev_attempts</th>\n",
       "      <th>studied_credits</th>\n",
       "      <th>disability</th>\n",
       "      <th>final_result</th>\n",
       "      <th>...</th>\n",
       "      <th>subpage_16-30</th>\n",
       "      <th>subpage_31-45</th>\n",
       "      <th>subpage_46-60</th>\n",
       "      <th>url_pre-0</th>\n",
       "      <th>url_1-15</th>\n",
       "      <th>url_16-30</th>\n",
       "      <th>url_31-45</th>\n",
       "      <th>url_46-60</th>\n",
       "      <th>sum_click_pre_A1</th>\n",
       "      <th>sum_click_pre_A2</th>\n",
       "    </tr>\n",
       "  </thead>\n",
       "  <tbody>\n",
       "    <tr>\n",
       "      <th>0</th>\n",
       "      <td>AAA</td>\n",
       "      <td>2013J</td>\n",
       "      <td>11391</td>\n",
       "      <td>0</td>\n",
       "      <td>3</td>\n",
       "      <td>2</td>\n",
       "      <td>0</td>\n",
       "      <td>240</td>\n",
       "      <td>0</td>\n",
       "      <td>0</td>\n",
       "      <td>...</td>\n",
       "      <td>2</td>\n",
       "      <td>1</td>\n",
       "      <td>0</td>\n",
       "      <td>0</td>\n",
       "      <td>1</td>\n",
       "      <td>0</td>\n",
       "      <td>0</td>\n",
       "      <td>0</td>\n",
       "      <td>352</td>\n",
       "      <td>175</td>\n",
       "    </tr>\n",
       "    <tr>\n",
       "      <th>1</th>\n",
       "      <td>AAA</td>\n",
       "      <td>2013J</td>\n",
       "      <td>28400</td>\n",
       "      <td>1</td>\n",
       "      <td>3</td>\n",
       "      <td>1</td>\n",
       "      <td>0</td>\n",
       "      <td>60</td>\n",
       "      <td>0</td>\n",
       "      <td>0</td>\n",
       "      <td>...</td>\n",
       "      <td>16</td>\n",
       "      <td>1</td>\n",
       "      <td>1</td>\n",
       "      <td>10</td>\n",
       "      <td>9</td>\n",
       "      <td>11</td>\n",
       "      <td>1</td>\n",
       "      <td>1</td>\n",
       "      <td>493</td>\n",
       "      <td>156</td>\n",
       "    </tr>\n",
       "    <tr>\n",
       "      <th>2</th>\n",
       "      <td>AAA</td>\n",
       "      <td>2013J</td>\n",
       "      <td>31604</td>\n",
       "      <td>1</td>\n",
       "      <td>2</td>\n",
       "      <td>1</td>\n",
       "      <td>0</td>\n",
       "      <td>60</td>\n",
       "      <td>0</td>\n",
       "      <td>0</td>\n",
       "      <td>...</td>\n",
       "      <td>17</td>\n",
       "      <td>17</td>\n",
       "      <td>3</td>\n",
       "      <td>3</td>\n",
       "      <td>10</td>\n",
       "      <td>8</td>\n",
       "      <td>12</td>\n",
       "      <td>3</td>\n",
       "      <td>390</td>\n",
       "      <td>371</td>\n",
       "    </tr>\n",
       "    <tr>\n",
       "      <th>3</th>\n",
       "      <td>AAA</td>\n",
       "      <td>2013J</td>\n",
       "      <td>32885</td>\n",
       "      <td>1</td>\n",
       "      <td>1</td>\n",
       "      <td>0</td>\n",
       "      <td>0</td>\n",
       "      <td>60</td>\n",
       "      <td>0</td>\n",
       "      <td>0</td>\n",
       "      <td>...</td>\n",
       "      <td>8</td>\n",
       "      <td>0</td>\n",
       "      <td>1</td>\n",
       "      <td>3</td>\n",
       "      <td>0</td>\n",
       "      <td>3</td>\n",
       "      <td>0</td>\n",
       "      <td>0</td>\n",
       "      <td>558</td>\n",
       "      <td>64</td>\n",
       "    </tr>\n",
       "    <tr>\n",
       "      <th>4</th>\n",
       "      <td>AAA</td>\n",
       "      <td>2013J</td>\n",
       "      <td>38053</td>\n",
       "      <td>0</td>\n",
       "      <td>2</td>\n",
       "      <td>1</td>\n",
       "      <td>0</td>\n",
       "      <td>60</td>\n",
       "      <td>0</td>\n",
       "      <td>0</td>\n",
       "      <td>...</td>\n",
       "      <td>11</td>\n",
       "      <td>3</td>\n",
       "      <td>3</td>\n",
       "      <td>1</td>\n",
       "      <td>4</td>\n",
       "      <td>6</td>\n",
       "      <td>2</td>\n",
       "      <td>3</td>\n",
       "      <td>614</td>\n",
       "      <td>395</td>\n",
       "    </tr>\n",
       "  </tbody>\n",
       "</table>\n",
       "<p>5 rows × 117 columns</p>\n",
       "</div>"
      ],
      "text/plain": [
       "  code_module code_presentation  id_student  gender  highest_education  \\\n",
       "0         AAA             2013J       11391       0                  3   \n",
       "1         AAA             2013J       28400       1                  3   \n",
       "2         AAA             2013J       31604       1                  2   \n",
       "3         AAA             2013J       32885       1                  1   \n",
       "4         AAA             2013J       38053       0                  2   \n",
       "\n",
       "   age_band  num_of_prev_attempts  studied_credits  disability  final_result  \\\n",
       "0         2                     0              240           0             0   \n",
       "1         1                     0               60           0             0   \n",
       "2         1                     0               60           0             0   \n",
       "3         0                     0               60           0             0   \n",
       "4         1                     0               60           0             0   \n",
       "\n",
       "   ...  subpage_16-30  subpage_31-45  subpage_46-60  url_pre-0  url_1-15  \\\n",
       "0  ...              2              1              0          0         1   \n",
       "1  ...             16              1              1         10         9   \n",
       "2  ...             17             17              3          3        10   \n",
       "3  ...              8              0              1          3         0   \n",
       "4  ...             11              3              3          1         4   \n",
       "\n",
       "   url_16-30  url_31-45  url_46-60  sum_click_pre_A1  sum_click_pre_A2  \n",
       "0          0          0          0               352               175  \n",
       "1         11          1          1               493               156  \n",
       "2          8         12          3               390               371  \n",
       "3          3          0          0               558                64  \n",
       "4          6          2          3               614               395  \n",
       "\n",
       "[5 rows x 117 columns]"
      ]
     },
     "execution_count": 5,
     "metadata": {},
     "output_type": "execute_result"
    }
   ],
   "source": [
    "# read in existing wideform data\n",
    "df_wide = pd.read_excel('wideform.xlsx')\n",
    "df_wide.head()"
   ]
  },
  {
   "cell_type": "code",
   "execution_count": 6,
   "metadata": {},
   "outputs": [],
   "source": [
    "#weighted_score_A1\n",
    "#weighted_score_A2\n",
    "#df_wide[['weighted_score_A1','weighted_score_A2']].head()"
   ]
  },
  {
   "cell_type": "code",
   "execution_count": 7,
   "metadata": {},
   "outputs": [
    {
     "data": {
      "text/html": [
       "<div>\n",
       "<style scoped>\n",
       "    .dataframe tbody tr th:only-of-type {\n",
       "        vertical-align: middle;\n",
       "    }\n",
       "\n",
       "    .dataframe tbody tr th {\n",
       "        vertical-align: top;\n",
       "    }\n",
       "\n",
       "    .dataframe thead th {\n",
       "        text-align: right;\n",
       "    }\n",
       "</style>\n",
       "<table border=\"1\" class=\"dataframe\">\n",
       "  <thead>\n",
       "    <tr style=\"text-align: right;\">\n",
       "      <th></th>\n",
       "      <th>code_module</th>\n",
       "      <th>code_presentation</th>\n",
       "      <th>weight</th>\n",
       "    </tr>\n",
       "  </thead>\n",
       "  <tbody>\n",
       "    <tr>\n",
       "      <th>0</th>\n",
       "      <td>AAA</td>\n",
       "      <td>2013J</td>\n",
       "      <td>30.0</td>\n",
       "    </tr>\n",
       "    <tr>\n",
       "      <th>1</th>\n",
       "      <td>AAA</td>\n",
       "      <td>2014J</td>\n",
       "      <td>30.0</td>\n",
       "    </tr>\n",
       "    <tr>\n",
       "      <th>2</th>\n",
       "      <td>BBB</td>\n",
       "      <td>2013B</td>\n",
       "      <td>23.0</td>\n",
       "    </tr>\n",
       "    <tr>\n",
       "      <th>3</th>\n",
       "      <td>BBB</td>\n",
       "      <td>2013J</td>\n",
       "      <td>23.0</td>\n",
       "    </tr>\n",
       "    <tr>\n",
       "      <th>4</th>\n",
       "      <td>BBB</td>\n",
       "      <td>2014B</td>\n",
       "      <td>23.0</td>\n",
       "    </tr>\n",
       "    <tr>\n",
       "      <th>5</th>\n",
       "      <td>BBB</td>\n",
       "      <td>2014J</td>\n",
       "      <td>10.0</td>\n",
       "    </tr>\n",
       "    <tr>\n",
       "      <th>6</th>\n",
       "      <td>CCC</td>\n",
       "      <td>2014B</td>\n",
       "      <td>31.0</td>\n",
       "    </tr>\n",
       "    <tr>\n",
       "      <th>7</th>\n",
       "      <td>CCC</td>\n",
       "      <td>2014J</td>\n",
       "      <td>31.0</td>\n",
       "    </tr>\n",
       "    <tr>\n",
       "      <th>8</th>\n",
       "      <td>DDD</td>\n",
       "      <td>2013B</td>\n",
       "      <td>17.5</td>\n",
       "    </tr>\n",
       "    <tr>\n",
       "      <th>9</th>\n",
       "      <td>DDD</td>\n",
       "      <td>2013J</td>\n",
       "      <td>22.5</td>\n",
       "    </tr>\n",
       "    <tr>\n",
       "      <th>10</th>\n",
       "      <td>DDD</td>\n",
       "      <td>2014B</td>\n",
       "      <td>22.5</td>\n",
       "    </tr>\n",
       "    <tr>\n",
       "      <th>11</th>\n",
       "      <td>DDD</td>\n",
       "      <td>2014J</td>\n",
       "      <td>15.0</td>\n",
       "    </tr>\n",
       "    <tr>\n",
       "      <th>12</th>\n",
       "      <td>EEE</td>\n",
       "      <td>2013J</td>\n",
       "      <td>44.0</td>\n",
       "    </tr>\n",
       "    <tr>\n",
       "      <th>13</th>\n",
       "      <td>EEE</td>\n",
       "      <td>2014B</td>\n",
       "      <td>44.0</td>\n",
       "    </tr>\n",
       "    <tr>\n",
       "      <th>14</th>\n",
       "      <td>EEE</td>\n",
       "      <td>2014J</td>\n",
       "      <td>44.0</td>\n",
       "    </tr>\n",
       "    <tr>\n",
       "      <th>15</th>\n",
       "      <td>FFF</td>\n",
       "      <td>2013B</td>\n",
       "      <td>25.0</td>\n",
       "    </tr>\n",
       "    <tr>\n",
       "      <th>16</th>\n",
       "      <td>FFF</td>\n",
       "      <td>2013J</td>\n",
       "      <td>25.0</td>\n",
       "    </tr>\n",
       "    <tr>\n",
       "      <th>17</th>\n",
       "      <td>FFF</td>\n",
       "      <td>2014B</td>\n",
       "      <td>25.0</td>\n",
       "    </tr>\n",
       "    <tr>\n",
       "      <th>18</th>\n",
       "      <td>FFF</td>\n",
       "      <td>2014J</td>\n",
       "      <td>25.0</td>\n",
       "    </tr>\n",
       "    <tr>\n",
       "      <th>19</th>\n",
       "      <td>GGG</td>\n",
       "      <td>2013J</td>\n",
       "      <td>0.0</td>\n",
       "    </tr>\n",
       "    <tr>\n",
       "      <th>20</th>\n",
       "      <td>GGG</td>\n",
       "      <td>2014B</td>\n",
       "      <td>0.0</td>\n",
       "    </tr>\n",
       "    <tr>\n",
       "      <th>21</th>\n",
       "      <td>GGG</td>\n",
       "      <td>2014J</td>\n",
       "      <td>0.0</td>\n",
       "    </tr>\n",
       "  </tbody>\n",
       "</table>\n",
       "</div>"
      ],
      "text/plain": [
       "   code_module code_presentation  weight\n",
       "0          AAA             2013J    30.0\n",
       "1          AAA             2014J    30.0\n",
       "2          BBB             2013B    23.0\n",
       "3          BBB             2013J    23.0\n",
       "4          BBB             2014B    23.0\n",
       "5          BBB             2014J    10.0\n",
       "6          CCC             2014B    31.0\n",
       "7          CCC             2014J    31.0\n",
       "8          DDD             2013B    17.5\n",
       "9          DDD             2013J    22.5\n",
       "10         DDD             2014B    22.5\n",
       "11         DDD             2014J    15.0\n",
       "12         EEE             2013J    44.0\n",
       "13         EEE             2014B    44.0\n",
       "14         EEE             2014J    44.0\n",
       "15         FFF             2013B    25.0\n",
       "16         FFF             2013J    25.0\n",
       "17         FFF             2014B    25.0\n",
       "18         FFF             2014J    25.0\n",
       "19         GGG             2013J     0.0\n",
       "20         GGG             2014B     0.0\n",
       "21         GGG             2014J     0.0"
      ]
     },
     "execution_count": 7,
     "metadata": {},
     "output_type": "execute_result"
    }
   ],
   "source": [
    "# create for each module-presentation the weight for the first two TMAs\n",
    "tma_assessments = assessments_raw[assessments_raw['assessment_type']=='TMA']\n",
    "module_presentations = tma_assessments[['code_module','code_presentation']].drop_duplicates()\n",
    "modules = tma_assessments[['code_module']].drop_duplicates()\n",
    "\n",
    "df_first_two_tmas = tma_assessments.sort_values(by='date').groupby(['code_module','code_presentation']).head(2).sort_values(by=['code_module','code_presentation'])\n",
    "weighted_possible_scores = df_first_two_tmas[['code_module','code_presentation','weight']].groupby(['code_module','code_presentation']).sum().reset_index()\n",
    "weighted_possible_scores"
   ]
  },
  {
   "cell_type": "code",
   "execution_count": 8,
   "metadata": {},
   "outputs": [
    {
     "data": {
      "text/html": [
       "<div>\n",
       "<style scoped>\n",
       "    .dataframe tbody tr th:only-of-type {\n",
       "        vertical-align: middle;\n",
       "    }\n",
       "\n",
       "    .dataframe tbody tr th {\n",
       "        vertical-align: top;\n",
       "    }\n",
       "\n",
       "    .dataframe thead th {\n",
       "        text-align: right;\n",
       "    }\n",
       "</style>\n",
       "<table border=\"1\" class=\"dataframe\">\n",
       "  <thead>\n",
       "    <tr style=\"text-align: right;\">\n",
       "      <th></th>\n",
       "      <th>code_module</th>\n",
       "      <th>code_presentation</th>\n",
       "      <th>date</th>\n",
       "    </tr>\n",
       "  </thead>\n",
       "  <tbody>\n",
       "    <tr>\n",
       "      <th>0</th>\n",
       "      <td>AAA</td>\n",
       "      <td>2013J</td>\n",
       "      <td>19.0</td>\n",
       "    </tr>\n",
       "    <tr>\n",
       "      <th>1</th>\n",
       "      <td>AAA</td>\n",
       "      <td>2013J</td>\n",
       "      <td>54.0</td>\n",
       "    </tr>\n",
       "    <tr>\n",
       "      <th>2</th>\n",
       "      <td>AAA</td>\n",
       "      <td>2013J</td>\n",
       "      <td>117.0</td>\n",
       "    </tr>\n",
       "    <tr>\n",
       "      <th>3</th>\n",
       "      <td>AAA</td>\n",
       "      <td>2013J</td>\n",
       "      <td>166.0</td>\n",
       "    </tr>\n",
       "    <tr>\n",
       "      <th>4</th>\n",
       "      <td>AAA</td>\n",
       "      <td>2013J</td>\n",
       "      <td>215.0</td>\n",
       "    </tr>\n",
       "    <tr>\n",
       "      <th>...</th>\n",
       "      <td>...</td>\n",
       "      <td>...</td>\n",
       "      <td>...</td>\n",
       "    </tr>\n",
       "    <tr>\n",
       "      <th>193</th>\n",
       "      <td>GGG</td>\n",
       "      <td>2014B</td>\n",
       "      <td>117.0</td>\n",
       "    </tr>\n",
       "    <tr>\n",
       "      <th>194</th>\n",
       "      <td>GGG</td>\n",
       "      <td>2014B</td>\n",
       "      <td>166.0</td>\n",
       "    </tr>\n",
       "    <tr>\n",
       "      <th>202</th>\n",
       "      <td>GGG</td>\n",
       "      <td>2014J</td>\n",
       "      <td>61.0</td>\n",
       "    </tr>\n",
       "    <tr>\n",
       "      <th>203</th>\n",
       "      <td>GGG</td>\n",
       "      <td>2014J</td>\n",
       "      <td>124.0</td>\n",
       "    </tr>\n",
       "    <tr>\n",
       "      <th>204</th>\n",
       "      <td>GGG</td>\n",
       "      <td>2014J</td>\n",
       "      <td>173.0</td>\n",
       "    </tr>\n",
       "  </tbody>\n",
       "</table>\n",
       "<p>106 rows × 3 columns</p>\n",
       "</div>"
      ],
      "text/plain": [
       "    code_module code_presentation   date\n",
       "0           AAA             2013J   19.0\n",
       "1           AAA             2013J   54.0\n",
       "2           AAA             2013J  117.0\n",
       "3           AAA             2013J  166.0\n",
       "4           AAA             2013J  215.0\n",
       "..          ...               ...    ...\n",
       "193         GGG             2014B  117.0\n",
       "194         GGG             2014B  166.0\n",
       "202         GGG             2014J   61.0\n",
       "203         GGG             2014J  124.0\n",
       "204         GGG             2014J  173.0\n",
       "\n",
       "[106 rows x 3 columns]"
      ]
     },
     "execution_count": 8,
     "metadata": {},
     "output_type": "execute_result"
    }
   ],
   "source": [
    "#df_first_two_tmas\n",
    "# tmas per module\n",
    "#tma_assessments.groupby(['code_module','code_presentation']).count()\n",
    "tma_assessments[['code_module','code_presentation','date']].drop_duplicates()"
   ]
  },
  {
   "cell_type": "code",
   "execution_count": 9,
   "metadata": {},
   "outputs": [
    {
     "name": "stdout",
     "output_type": "stream",
     "text": [
      "(76, 6)\n"
     ]
    },
    {
     "data": {
      "text/plain": [
       "(37, 3)"
      ]
     },
     "execution_count": 9,
     "metadata": {},
     "output_type": "execute_result"
    }
   ],
   "source": [
    "cma_assessments = assessments_raw[assessments_raw['assessment_type']=='CMA']\n",
    "print(cma_assessments.shape)\n",
    "cma_assessments[['code_module','code_presentation','date']].drop_duplicates().shape"
   ]
  },
  {
   "cell_type": "code",
   "execution_count": 10,
   "metadata": {},
   "outputs": [],
   "source": [
    "# do basic train-test split (80/20)\n",
    "from sklearn.model_selection import train_test_split\n",
    "df = df_wide.copy()\n",
    "weighted_possible_scores = weighted_possible_scores.rename(columns={'weight':'out_of'})\n",
    "df = df.merge(weighted_possible_scores, on=['code_module','code_presentation'])\n",
    "\n",
    "df['grade'] = (df['weighted_score_A1'] + df['weighted_score_A2'])/(df['out_of'])\n",
    "\n",
    "rule_based_columns = ['code_module','code_presentation','id_student','grade']\n",
    "label = ['final_result']\n",
    "\n",
    "X_train, X_test, y_train, y_test = train_test_split(df[rule_based_columns],df[label], test_size=0.2, random_state=42)"
   ]
  },
  {
   "cell_type": "code",
   "execution_count": null,
   "metadata": {},
   "outputs": [],
   "source": []
  },
  {
   "cell_type": "code",
   "execution_count": 11,
   "metadata": {},
   "outputs": [],
   "source": [
    "# test rule based method\n",
    "def pred_rule_based(df):\n",
    "    df['pred'] = df.apply(lambda x: 0 if x['grade']>0.4 else 1, axis=1)\n",
    "    return df\n",
    "\n",
    "train_preds = pred_rule_based(X_train)\n",
    "train_preds['actual'] = y_train"
   ]
  },
  {
   "cell_type": "code",
   "execution_count": 12,
   "metadata": {},
   "outputs": [],
   "source": [
    "# test scoring:\n",
    "from sklearn.metrics import accuracy_score"
   ]
  },
  {
   "cell_type": "code",
   "execution_count": 13,
   "metadata": {},
   "outputs": [
    {
     "data": {
      "text/plain": [
       "0.6436514522821577"
      ]
     },
     "execution_count": 13,
     "metadata": {},
     "output_type": "execute_result"
    }
   ],
   "source": [
    "score = accuracy_score(y_train,train_preds['pred'])\n",
    "score"
   ]
  },
  {
   "cell_type": "code",
   "execution_count": 14,
   "metadata": {},
   "outputs": [
    {
     "name": "stderr",
     "output_type": "stream",
     "text": [
      "c:\\Users\\Mike\\AppData\\Local\\Programs\\Python\\Python310\\lib\\site-packages\\numpy\\lib\\function_base.py:518: RuntimeWarning: Mean of empty slice.\n",
      "  avg = a.mean(axis, **keepdims_kw)\n",
      "c:\\Users\\Mike\\AppData\\Local\\Programs\\Python\\Python310\\lib\\site-packages\\numpy\\core\\_methods.py:190: RuntimeWarning: invalid value encountered in double_scalars\n",
      "  ret = ret.dtype.type(ret / rcount)\n",
      "c:\\Users\\Mike\\AppData\\Local\\Programs\\Python\\Python310\\lib\\site-packages\\numpy\\lib\\function_base.py:518: RuntimeWarning: Mean of empty slice.\n",
      "  avg = a.mean(axis, **keepdims_kw)\n",
      "c:\\Users\\Mike\\AppData\\Local\\Programs\\Python\\Python310\\lib\\site-packages\\numpy\\core\\_methods.py:190: RuntimeWarning: invalid value encountered in double_scalars\n",
      "  ret = ret.dtype.type(ret / rcount)\n",
      "c:\\Users\\Mike\\AppData\\Local\\Programs\\Python\\Python310\\lib\\site-packages\\numpy\\lib\\function_base.py:518: RuntimeWarning: Mean of empty slice.\n",
      "  avg = a.mean(axis, **keepdims_kw)\n",
      "c:\\Users\\Mike\\AppData\\Local\\Programs\\Python\\Python310\\lib\\site-packages\\numpy\\core\\_methods.py:190: RuntimeWarning: invalid value encountered in double_scalars\n",
      "  ret = ret.dtype.type(ret / rcount)\n"
     ]
    },
    {
     "data": {
      "text/plain": [
       "{('AAA', '2013J'): 0.843,\n",
       " ('AAA', '2014J'): 0.743,\n",
       " ('BBB', '2013B'): 0.645,\n",
       " ('BBB', '2013J'): 0.696,\n",
       " ('BBB', '2014B'): 0.68,\n",
       " ('BBB', '2014J'): 0.668,\n",
       " ('CCC', '2014B'): 0.652,\n",
       " ('CCC', '2014J'): 0.592,\n",
       " ('DDD', '2013B'): 0.598,\n",
       " ('DDD', '2013J'): 0.608,\n",
       " ('DDD', '2014B'): 0.584,\n",
       " ('DDD', '2014J'): 0.605,\n",
       " ('EEE', '2013J'): 0.851,\n",
       " ('EEE', '2014B'): 0.708,\n",
       " ('EEE', '2014J'): 0.747,\n",
       " ('FFF', '2013B'): 0.616,\n",
       " ('FFF', '2013J'): 0.664,\n",
       " ('FFF', '2014B'): 0.549,\n",
       " ('FFF', '2014J'): 0.636,\n",
       " ('GGG', '2013J'): nan,\n",
       " ('GGG', '2014B'): nan,\n",
       " ('GGG', '2014J'): nan}"
      ]
     },
     "execution_count": 14,
     "metadata": {},
     "output_type": "execute_result"
    }
   ],
   "source": [
    "# find accuracy by module\n",
    "test_preds = pred_rule_based(X_test)\n",
    "test_preds['actual'] = y_test\n",
    "\n",
    "# print(test_preds.head())\n",
    "\n",
    "accuracies = {}\n",
    "for _,mp in module_presentations.iterrows():\n",
    "    # select only for this course\n",
    "    df_ = test_preds[(test_preds['code_module']==mp['code_module']) & (test_preds['code_presentation']==mp['code_presentation'])]\n",
    "    accuracies[(mp['code_module'],mp['code_presentation'])] = np.round(accuracy_score(df_['actual'], df_['pred']),3)\n",
    "\n",
    "accuracies"
   ]
  },
  {
   "cell_type": "code",
   "execution_count": 15,
   "metadata": {},
   "outputs": [
    {
     "data": {
      "text/plain": [
       "(175, 6)"
      ]
     },
     "execution_count": 15,
     "metadata": {},
     "output_type": "execute_result"
    }
   ],
   "source": [
    "test_preds[(test_preds['code_module']=='EEE') & (test_preds['code_presentation']=='2013J')].shape"
   ]
  },
  {
   "cell_type": "code",
   "execution_count": 16,
   "metadata": {},
   "outputs": [
    {
     "name": "stderr",
     "output_type": "stream",
     "text": [
      "c:\\Users\\Mike\\AppData\\Local\\Programs\\Python\\Python310\\lib\\site-packages\\numpy\\lib\\function_base.py:518: RuntimeWarning: Mean of empty slice.\n",
      "  avg = a.mean(axis, **keepdims_kw)\n",
      "c:\\Users\\Mike\\AppData\\Local\\Programs\\Python\\Python310\\lib\\site-packages\\numpy\\core\\_methods.py:190: RuntimeWarning: invalid value encountered in double_scalars\n",
      "  ret = ret.dtype.type(ret / rcount)\n",
      "c:\\Users\\Mike\\AppData\\Local\\Programs\\Python\\Python310\\lib\\site-packages\\numpy\\lib\\function_base.py:518: RuntimeWarning: Mean of empty slice.\n",
      "  avg = a.mean(axis, **keepdims_kw)\n",
      "c:\\Users\\Mike\\AppData\\Local\\Programs\\Python\\Python310\\lib\\site-packages\\numpy\\core\\_methods.py:190: RuntimeWarning: invalid value encountered in double_scalars\n",
      "  ret = ret.dtype.type(ret / rcount)\n",
      "c:\\Users\\Mike\\AppData\\Local\\Programs\\Python\\Python310\\lib\\site-packages\\numpy\\lib\\function_base.py:518: RuntimeWarning: Mean of empty slice.\n",
      "  avg = a.mean(axis, **keepdims_kw)\n",
      "c:\\Users\\Mike\\AppData\\Local\\Programs\\Python\\Python310\\lib\\site-packages\\numpy\\core\\_methods.py:190: RuntimeWarning: invalid value encountered in double_scalars\n",
      "  ret = ret.dtype.type(ret / rcount)\n"
     ]
    },
    {
     "data": {
      "text/plain": [
       "{('AAA', '2013J'): 0.791,\n",
       " ('AAA', '2014J'): 0.774,\n",
       " ('BBB', '2013B'): 0.648,\n",
       " ('BBB', '2013J'): 0.687,\n",
       " ('BBB', '2014B'): 0.661,\n",
       " ('BBB', '2014J'): 0.687,\n",
       " ('CCC', '2014B'): 0.605,\n",
       " ('CCC', '2014J'): 0.612,\n",
       " ('DDD', '2013B'): 0.572,\n",
       " ('DDD', '2013J'): 0.603,\n",
       " ('DDD', '2014B'): 0.585,\n",
       " ('DDD', '2014J'): 0.576,\n",
       " ('EEE', '2013J'): 0.791,\n",
       " ('EEE', '2014B'): 0.738,\n",
       " ('EEE', '2014J'): 0.758,\n",
       " ('FFF', '2013B'): 0.608,\n",
       " ('FFF', '2013J'): 0.631,\n",
       " ('FFF', '2014B'): 0.582,\n",
       " ('FFF', '2014J'): 0.643,\n",
       " ('GGG', '2013J'): nan,\n",
       " ('GGG', '2014B'): nan,\n",
       " ('GGG', '2014J'): nan}"
      ]
     },
     "execution_count": 16,
     "metadata": {},
     "output_type": "execute_result"
    }
   ],
   "source": [
    "all_preds = pd.concat([train_preds, test_preds])\n",
    "accuracies_all = {}\n",
    "for _,mp in module_presentations.iterrows():\n",
    "    # select only for this course\n",
    "    df_ = all_preds[(all_preds['code_module']==mp['code_module']) & (all_preds['code_presentation']==mp['code_presentation'])]\n",
    "    accuracies_all[(mp['code_module'],mp['code_presentation'])] = np.round(accuracy_score(df_['actual'], df_['pred']),3)\n",
    "\n",
    "accuracies_all"
   ]
  },
  {
   "cell_type": "code",
   "execution_count": 17,
   "metadata": {},
   "outputs": [
    {
     "data": {
      "text/plain": [
       "0.646"
      ]
     },
     "execution_count": 17,
     "metadata": {},
     "output_type": "execute_result"
    }
   ],
   "source": [
    "# accuracy on all\n",
    "np.round(accuracy_score(all_preds['actual'],all_preds['pred']),3)"
   ]
  },
  {
   "cell_type": "code",
   "execution_count": 18,
   "metadata": {},
   "outputs": [
    {
     "name": "stderr",
     "output_type": "stream",
     "text": [
      "c:\\Users\\Mike\\AppData\\Local\\Programs\\Python\\Python310\\lib\\site-packages\\numpy\\lib\\function_base.py:518: RuntimeWarning: Mean of empty slice.\n",
      "  avg = a.mean(axis, **keepdims_kw)\n",
      "c:\\Users\\Mike\\AppData\\Local\\Programs\\Python\\Python310\\lib\\site-packages\\numpy\\core\\_methods.py:190: RuntimeWarning: invalid value encountered in double_scalars\n",
      "  ret = ret.dtype.type(ret / rcount)\n"
     ]
    },
    {
     "data": {
      "text/plain": [
       "{'AAA': 0.793,\n",
       " 'BBB': 0.675,\n",
       " 'CCC': 0.615,\n",
       " 'DDD': 0.6,\n",
       " 'EEE': 0.776,\n",
       " 'FFF': 0.623,\n",
       " 'GGG': nan}"
      ]
     },
     "execution_count": 18,
     "metadata": {},
     "output_type": "execute_result"
    }
   ],
   "source": [
    "accuracies = {}\n",
    "for _,mp in modules.iterrows():\n",
    "    df_ = test_preds[(test_preds['code_module']==mp['code_module'])]\n",
    "    accuracies[mp['code_module']] = np.round(accuracy_score(df_['actual'], df_['pred']),3)\n",
    "\n",
    "accuracies"
   ]
  },
  {
   "cell_type": "code",
   "execution_count": 19,
   "metadata": {},
   "outputs": [
    {
     "name": "stderr",
     "output_type": "stream",
     "text": [
      "c:\\Users\\Mike\\AppData\\Local\\Programs\\Python\\Python310\\lib\\site-packages\\numpy\\lib\\function_base.py:518: RuntimeWarning: Mean of empty slice.\n",
      "  avg = a.mean(axis, **keepdims_kw)\n",
      "c:\\Users\\Mike\\AppData\\Local\\Programs\\Python\\Python310\\lib\\site-packages\\numpy\\core\\_methods.py:190: RuntimeWarning: invalid value encountered in double_scalars\n",
      "  ret = ret.dtype.type(ret / rcount)\n"
     ]
    },
    {
     "data": {
      "text/plain": [
       "{'AAA': 0.783,\n",
       " 'BBB': 0.673,\n",
       " 'CCC': 0.61,\n",
       " 'DDD': 0.586,\n",
       " 'EEE': 0.765,\n",
       " 'FFF': 0.62,\n",
       " 'GGG': nan}"
      ]
     },
     "execution_count": 19,
     "metadata": {},
     "output_type": "execute_result"
    }
   ],
   "source": [
    "accuracies_all = {}\n",
    "for _,mp in modules.iterrows():\n",
    "    df_ = all_preds[(all_preds['code_module']==mp['code_module'])]\n",
    "    accuracies_all[mp['code_module']] = np.round(accuracy_score(df_['actual'], df_['pred']),3)\n",
    "\n",
    "accuracies_all"
   ]
  },
  {
   "cell_type": "code",
   "execution_count": 22,
   "metadata": {},
   "outputs": [
    {
     "data": {
      "text/plain": [
       "0.646"
      ]
     },
     "execution_count": 22,
     "metadata": {},
     "output_type": "execute_result"
    }
   ],
   "source": [
    "accuracies_single = np.round(accuracy_score(all_preds['actual'],all_preds['pred']),3)\n",
    "accuracies_single"
   ]
  },
  {
   "cell_type": "code",
   "execution_count": 29,
   "metadata": {},
   "outputs": [
    {
     "name": "stdout",
     "output_type": "stream",
     "text": [
      "32593\n",
      "32593\n"
     ]
    }
   ],
   "source": [
    "#student_info_raw['imd_band'].value_counts()\n",
    "print(student_info_raw.shape[0])\n",
    "print(len(student_info_raw['imd_band']))"
   ]
  },
  {
   "cell_type": "code",
   "execution_count": 43,
   "metadata": {},
   "outputs": [
    {
     "data": {
      "text/plain": [
       "CCC    1915\n",
       "DDD     950\n",
       "Name: code_module, dtype: int64"
      ]
     },
     "execution_count": 43,
     "metadata": {},
     "output_type": "execute_result"
    }
   ],
   "source": [
    "#student_assessment_raw[student_assessment_raw['score'].isna()]\n",
    "exams = assessments_raw[assessments_raw.isna().any(axis=1)][['id_assessment','code_module','code_presentation']]\n",
    "merged_ = exams.merge(student_assessment_raw, on='id_assessment')\n",
    "merged_['code_module'].value_counts()\n"
   ]
  },
  {
   "cell_type": "code",
   "execution_count": 58,
   "metadata": {},
   "outputs": [
    {
     "data": {
      "text/plain": [
       "{'AAA': 0.7098930481283422,\n",
       " 'BBB': 0.47464913389809077,\n",
       " 'CCC': 0.37843933243121336,\n",
       " 'DDD': 0.4161352040816326,\n",
       " 'EEE': 0.5623721881390593,\n",
       " 'FFF': 0.4699819634114919,\n",
       " 'GGG': 0.5974743488555643}"
      ]
     },
     "execution_count": 58,
     "metadata": {},
     "output_type": "execute_result"
    }
   ],
   "source": [
    "pass_pct = {}\n",
    "modules = student_info_raw['code_module'].unique()\n",
    "for mod in modules:\n",
    "    #print(mod)\n",
    "    val_counts = student_info_raw[student_info_raw['code_module']==mod]['final_result'].value_counts()\n",
    "    pass_pct[mod] = (val_counts['Pass'] + val_counts['Distinction'])/(val_counts.sum())\n",
    "pass_pct"
   ]
  },
  {
   "cell_type": "code",
   "execution_count": 49,
   "metadata": {},
   "outputs": [
    {
     "data": {
      "text/plain": [
       "0.7098930481283422"
      ]
     },
     "execution_count": 49,
     "metadata": {},
     "output_type": "execute_result"
    }
   ],
   "source": [
    "(487+44)/(487+126+91+44)"
   ]
  },
  {
   "cell_type": "code",
   "execution_count": 66,
   "metadata": {},
   "outputs": [
    {
     "name": "stdout",
     "output_type": "stream",
     "text": [
      "{'BBB': 577.3569999999996, 'FFF': 807.2479999999998, 'DDD': 1254.4000000000003, 'CCC': 908.9699999999998, 'EEE': 287.5319999999999, 'AAA': 2.9920000000000027}\n"
     ]
    },
    {
     "data": {
      "text/plain": [
       "3838.499"
      ]
     },
     "execution_count": 66,
     "metadata": {},
     "output_type": "execute_result"
    }
   ],
   "source": [
    "# compare number of students per course affected by improved model\n",
    "vcs = student_info_raw['code_module'].value_counts()\n",
    "vcs = vcs.drop('GGG')\n",
    "rf_acc = {\"AAA\":.787, \"BBB\":.746,\"CCC\":.815,\"DDD\":.786,\"EEE\":.863,\"FFF\":.75}\n",
    "rb_acc = {\"AAA\":.783, \"BBB\":.673,\"CCC\":.610,\"DDD\":.586,\"EEE\":.765,\"FFF\":.646}\n",
    "num_extra = {}\n",
    "for k,v in vcs.items():\n",
    "    num_extra[k] = v*(rf_acc[k]-rb_acc[k])\n",
    "print(num_extra)\n",
    "np.sum(list(num_extra.values()))\n"
   ]
  },
  {
   "cell_type": "code",
   "execution_count": null,
   "metadata": {},
   "outputs": [],
   "source": []
  }
 ],
 "metadata": {
  "kernelspec": {
   "display_name": "Python 3.10.5 64-bit",
   "language": "python",
   "name": "python3"
  },
  "language_info": {
   "codemirror_mode": {
    "name": "ipython",
    "version": 3
   },
   "file_extension": ".py",
   "mimetype": "text/x-python",
   "name": "python",
   "nbconvert_exporter": "python",
   "pygments_lexer": "ipython3",
   "version": "3.10.5"
  },
  "orig_nbformat": 4,
  "vscode": {
   "interpreter": {
    "hash": "de7495c843f32c5ed741c5a0a2e4f65ffadd39dc2c3987faa5c68525a757f4e4"
   }
  }
 },
 "nbformat": 4,
 "nbformat_minor": 2
}
