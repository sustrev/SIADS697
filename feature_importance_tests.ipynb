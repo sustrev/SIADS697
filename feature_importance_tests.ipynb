{
 "cells": [
  {
   "cell_type": "code",
   "execution_count": 1,
   "metadata": {},
   "outputs": [],
   "source": [
    "import pandas as pd\n",
    "import numpy as np\n",
    "import matplotlib.pyplot as plt\n",
    "from sklearn import preprocessing\n",
    "from sklearn.cluster import KMeans\n",
    "from sklearn.model_selection import train_test_split\n",
    "from sklearn.pipeline import Pipeline, make_pipeline\n",
    "from sklearn.preprocessing import StandardScaler\n",
    "from sklearn.feature_selection import SelectKBest, f_classif\n",
    "from sklearn.svm import LinearSVC\n",
    "\n"
   ]
  },
  {
   "cell_type": "code",
   "execution_count": 2,
   "metadata": {},
   "outputs": [
    {
     "data": {
      "text/html": [
       "<div>\n",
       "<style scoped>\n",
       "    .dataframe tbody tr th:only-of-type {\n",
       "        vertical-align: middle;\n",
       "    }\n",
       "\n",
       "    .dataframe tbody tr th {\n",
       "        vertical-align: top;\n",
       "    }\n",
       "\n",
       "    .dataframe thead th {\n",
       "        text-align: right;\n",
       "    }\n",
       "</style>\n",
       "<table border=\"1\" class=\"dataframe\">\n",
       "  <thead>\n",
       "    <tr style=\"text-align: right;\">\n",
       "      <th></th>\n",
       "      <th>code_module</th>\n",
       "      <th>code_presentation</th>\n",
       "      <th>id_student</th>\n",
       "      <th>age_band</th>\n",
       "      <th>num_of_prev_attempts</th>\n",
       "      <th>studied_credits</th>\n",
       "      <th>final_result</th>\n",
       "      <th>date_registration</th>\n",
       "      <th>date_unregistration</th>\n",
       "      <th>days_from_due_A1</th>\n",
       "      <th>...</th>\n",
       "      <th>subpage_pre-0</th>\n",
       "      <th>subpage_1-15</th>\n",
       "      <th>subpage_16-30</th>\n",
       "      <th>subpage_31-45</th>\n",
       "      <th>subpage_46-60</th>\n",
       "      <th>url_pre-0</th>\n",
       "      <th>url_1-15</th>\n",
       "      <th>url_16-30</th>\n",
       "      <th>url_31-45</th>\n",
       "      <th>url_46-60</th>\n",
       "    </tr>\n",
       "  </thead>\n",
       "  <tbody>\n",
       "    <tr>\n",
       "      <th>0</th>\n",
       "      <td>AAA</td>\n",
       "      <td>2013J</td>\n",
       "      <td>11391</td>\n",
       "      <td>55&lt;=</td>\n",
       "      <td>0</td>\n",
       "      <td>240</td>\n",
       "      <td>Pass</td>\n",
       "      <td>-159.0</td>\n",
       "      <td>NaN</td>\n",
       "      <td>-1.0</td>\n",
       "      <td>...</td>\n",
       "      <td>11.0</td>\n",
       "      <td>9.0</td>\n",
       "      <td>2.0</td>\n",
       "      <td>1.0</td>\n",
       "      <td>NaN</td>\n",
       "      <td>NaN</td>\n",
       "      <td>1.0</td>\n",
       "      <td>NaN</td>\n",
       "      <td>NaN</td>\n",
       "      <td>NaN</td>\n",
       "    </tr>\n",
       "    <tr>\n",
       "      <th>1</th>\n",
       "      <td>AAA</td>\n",
       "      <td>2013J</td>\n",
       "      <td>28400</td>\n",
       "      <td>35-55</td>\n",
       "      <td>0</td>\n",
       "      <td>60</td>\n",
       "      <td>Pass</td>\n",
       "      <td>-53.0</td>\n",
       "      <td>NaN</td>\n",
       "      <td>3.0</td>\n",
       "      <td>...</td>\n",
       "      <td>26.0</td>\n",
       "      <td>17.0</td>\n",
       "      <td>16.0</td>\n",
       "      <td>1.0</td>\n",
       "      <td>1.0</td>\n",
       "      <td>10.0</td>\n",
       "      <td>9.0</td>\n",
       "      <td>11.0</td>\n",
       "      <td>1.0</td>\n",
       "      <td>1.0</td>\n",
       "    </tr>\n",
       "    <tr>\n",
       "      <th>2</th>\n",
       "      <td>AAA</td>\n",
       "      <td>2013J</td>\n",
       "      <td>31604</td>\n",
       "      <td>35-55</td>\n",
       "      <td>0</td>\n",
       "      <td>60</td>\n",
       "      <td>Pass</td>\n",
       "      <td>-52.0</td>\n",
       "      <td>NaN</td>\n",
       "      <td>-2.0</td>\n",
       "      <td>...</td>\n",
       "      <td>19.0</td>\n",
       "      <td>19.0</td>\n",
       "      <td>17.0</td>\n",
       "      <td>17.0</td>\n",
       "      <td>3.0</td>\n",
       "      <td>3.0</td>\n",
       "      <td>10.0</td>\n",
       "      <td>8.0</td>\n",
       "      <td>12.0</td>\n",
       "      <td>3.0</td>\n",
       "    </tr>\n",
       "    <tr>\n",
       "      <th>3</th>\n",
       "      <td>AAA</td>\n",
       "      <td>2013J</td>\n",
       "      <td>32885</td>\n",
       "      <td>0-35</td>\n",
       "      <td>0</td>\n",
       "      <td>60</td>\n",
       "      <td>Pass</td>\n",
       "      <td>-176.0</td>\n",
       "      <td>NaN</td>\n",
       "      <td>7.0</td>\n",
       "      <td>...</td>\n",
       "      <td>17.0</td>\n",
       "      <td>3.0</td>\n",
       "      <td>8.0</td>\n",
       "      <td>NaN</td>\n",
       "      <td>1.0</td>\n",
       "      <td>3.0</td>\n",
       "      <td>NaN</td>\n",
       "      <td>3.0</td>\n",
       "      <td>NaN</td>\n",
       "      <td>NaN</td>\n",
       "    </tr>\n",
       "    <tr>\n",
       "      <th>4</th>\n",
       "      <td>AAA</td>\n",
       "      <td>2013J</td>\n",
       "      <td>38053</td>\n",
       "      <td>35-55</td>\n",
       "      <td>0</td>\n",
       "      <td>60</td>\n",
       "      <td>Pass</td>\n",
       "      <td>-110.0</td>\n",
       "      <td>NaN</td>\n",
       "      <td>0.0</td>\n",
       "      <td>...</td>\n",
       "      <td>15.0</td>\n",
       "      <td>6.0</td>\n",
       "      <td>11.0</td>\n",
       "      <td>3.0</td>\n",
       "      <td>3.0</td>\n",
       "      <td>1.0</td>\n",
       "      <td>4.0</td>\n",
       "      <td>6.0</td>\n",
       "      <td>2.0</td>\n",
       "      <td>3.0</td>\n",
       "    </tr>\n",
       "  </tbody>\n",
       "</table>\n",
       "<p>5 rows × 104 columns</p>\n",
       "</div>"
      ],
      "text/plain": [
       "  code_module code_presentation  id_student age_band  num_of_prev_attempts  \\\n",
       "0         AAA             2013J       11391     55<=                     0   \n",
       "1         AAA             2013J       28400    35-55                     0   \n",
       "2         AAA             2013J       31604    35-55                     0   \n",
       "3         AAA             2013J       32885     0-35                     0   \n",
       "4         AAA             2013J       38053    35-55                     0   \n",
       "\n",
       "   studied_credits final_result  date_registration  date_unregistration  \\\n",
       "0              240         Pass             -159.0                  NaN   \n",
       "1               60         Pass              -53.0                  NaN   \n",
       "2               60         Pass              -52.0                  NaN   \n",
       "3               60         Pass             -176.0                  NaN   \n",
       "4               60         Pass             -110.0                  NaN   \n",
       "\n",
       "   days_from_due_A1  ...  subpage_pre-0  subpage_1-15  subpage_16-30  \\\n",
       "0              -1.0  ...           11.0           9.0            2.0   \n",
       "1               3.0  ...           26.0          17.0           16.0   \n",
       "2              -2.0  ...           19.0          19.0           17.0   \n",
       "3               7.0  ...           17.0           3.0            8.0   \n",
       "4               0.0  ...           15.0           6.0           11.0   \n",
       "\n",
       "   subpage_31-45  subpage_46-60  url_pre-0  url_1-15  url_16-30  url_31-45  \\\n",
       "0            1.0            NaN        NaN       1.0        NaN        NaN   \n",
       "1            1.0            1.0       10.0       9.0       11.0        1.0   \n",
       "2           17.0            3.0        3.0      10.0        8.0       12.0   \n",
       "3            NaN            1.0        3.0       NaN        3.0        NaN   \n",
       "4            3.0            3.0        1.0       4.0        6.0        2.0   \n",
       "\n",
       "   url_46-60  \n",
       "0        NaN  \n",
       "1        1.0  \n",
       "2        3.0  \n",
       "3        NaN  \n",
       "4        3.0  \n",
       "\n",
       "[5 rows x 104 columns]"
      ]
     },
     "execution_count": 2,
     "metadata": {},
     "output_type": "execute_result"
    }
   ],
   "source": [
    "df = pd.read_excel('wideform.xlsx')\n",
    "\n",
    "df.head(5)"
   ]
  },
  {
   "cell_type": "code",
   "execution_count": 3,
   "metadata": {},
   "outputs": [],
   "source": [
    "index_cols = ['code_module', 'code_presentation', 'id_student']\n",
    "label = ['final_result']\n",
    "# feature_cols is everything else\n",
    "# I'm removing age_band for now, though so everything's a number.\n",
    "# I'm also removing date_unregistration and days from due because\n",
    "# those don't make sense to change NaNs to 0, so that'll take more thought\n",
    "not_features = ['code_module', 'code_presentation', 'id_student', 'final_result', 'age_band', 'date_unregistration', 'days_from_due_A1', 'days_from_due_A2']\n",
    "features = [col for col in df.columns if col not in not_features]\n",
    "\n",
    "# Setting NaNs as 0, see caveats above\n",
    "df.fillna(0, inplace=True)\n",
    "\n",
    "# Set fail as 1, pass as 0\n",
    "# Distinction currently counted as pass\n",
    "# Withdrawl counted as fail\n",
    "df.loc[df['final_result'] == \"Fail\", 'final_result'] = 1 \n",
    "df.loc[df['final_result'] == \"Withdrawn\", 'final_result'] = 1 \n",
    "df.loc[df['final_result'] == \"Pass\", 'final_result'] = 0\n",
    "df.loc[df['final_result'] == \"Distinction\", 'final_result'] = 0"
   ]
  },
  {
   "cell_type": "code",
   "execution_count": 4,
   "metadata": {},
   "outputs": [],
   "source": [
    "X_train, X_test, y_train, y_test= train_test_split(df[features],df[label], test_size=0.20)"
   ]
  },
  {
   "cell_type": "code",
   "execution_count": 5,
   "metadata": {},
   "outputs": [],
   "source": [
    "pipe = Pipeline([('scaler', StandardScaler())])\n",
    "pipe.fit(X_train, y_train)\n",
    "X_train = pipe.transform(X_train)\n",
    "X_test = pipe.transform(X_test)\n"
   ]
  },
  {
   "cell_type": "code",
   "execution_count": 6,
   "metadata": {},
   "outputs": [
    {
     "data": {
      "text/plain": [
       "array([[ 1.74277414,  1.05422092, -0.00274749, ..., -0.18566096,\n",
       "        -0.41712222, -0.34491373],\n",
       "       [-0.34316504, -0.55489186, -1.28297281, ..., -0.34850482,\n",
       "        -0.41712222, -0.34491373],\n",
       "       [-0.34316504,  1.05422092, -0.8632268 , ..., -0.18566096,\n",
       "        -0.41712222, -0.34491373],\n",
       "       ...,\n",
       "       [-0.34316504, -0.55489186,  0.35403661, ..., -0.51134868,\n",
       "        -0.41712222, -0.34491373],\n",
       "       [-0.34316504, -0.55489186, -0.25459509, ...,  0.30287062,\n",
       "        -0.41712222, -0.1336548 ],\n",
       "       [ 1.74277414,  1.05422092, -0.8842141 , ..., -0.34850482,\n",
       "         0.51409016, -0.34491373]])"
      ]
     },
     "execution_count": 6,
     "metadata": {},
     "output_type": "execute_result"
    }
   ],
   "source": [
    "X_train"
   ]
  },
  {
   "cell_type": "code",
   "execution_count": 7,
   "metadata": {},
   "outputs": [],
   "source": [
    "y_train = y_train.astype('int')"
   ]
  },
  {
   "cell_type": "code",
   "execution_count": 8,
   "metadata": {},
   "outputs": [
    {
     "name": "stderr",
     "output_type": "stream",
     "text": [
      "c:\\Users\\Susannah\\anaconda3\\envs\\py3env\\lib\\site-packages\\sklearn\\svm\\_base.py:976: ConvergenceWarning: Liblinear failed to converge, increase the number of iterations.\n",
      "  warnings.warn(\"Liblinear failed to converge, increase \"\n"
     ]
    },
    {
     "data": {
      "text/plain": [
       "Pipeline(steps=[('selectkbest', SelectKBest(k=30)), ('linearsvc', LinearSVC())])"
      ]
     },
     "execution_count": 8,
     "metadata": {},
     "output_type": "execute_result"
    }
   ],
   "source": [
    "anova_filter = SelectKBest(f_classif, k=30) #Adjust K to see choice cutoffs\n",
    "clf = LinearSVC()\n",
    "anova_svm = make_pipeline(anova_filter, clf)\n",
    "anova_svm.fit(X_train, y_train['final_result'])"
   ]
  },
  {
   "cell_type": "code",
   "execution_count": 9,
   "metadata": {},
   "outputs": [],
   "source": [
    "boolean_mask = anova_svm[0].get_support()"
   ]
  },
  {
   "cell_type": "code",
   "execution_count": 10,
   "metadata": {},
   "outputs": [],
   "source": [
    "chosen_features = [b for a, b in zip(boolean_mask, features) if a]"
   ]
  },
  {
   "cell_type": "code",
   "execution_count": 11,
   "metadata": {},
   "outputs": [
    {
     "data": {
      "text/plain": [
       "['num_of_prev_attempts',\n",
       " 'studied_credits',\n",
       " 'score_A1',\n",
       " 'score_A2',\n",
       " 'forumng_pre-0',\n",
       " 'forumng_1-15',\n",
       " 'forumng_16-30',\n",
       " 'forumng_31-45',\n",
       " 'forumng_46-60',\n",
       " 'homepage_pre-0',\n",
       " 'homepage_1-15',\n",
       " 'homepage_16-30',\n",
       " 'homepage_31-45',\n",
       " 'homepage_46-60',\n",
       " 'oucontent_pre-0',\n",
       " 'oucontent_1-15',\n",
       " 'oucontent_16-30',\n",
       " 'oucontent_31-45',\n",
       " 'oucontent_46-60',\n",
       " 'ouwiki_16-30',\n",
       " 'questionnaire_16-30',\n",
       " 'questionnaire_31-45',\n",
       " 'quiz_1-15',\n",
       " 'quiz_31-45',\n",
       " 'quiz_46-60',\n",
       " 'subpage_pre-0',\n",
       " 'subpage_1-15',\n",
       " 'subpage_46-60',\n",
       " 'url_31-45',\n",
       " 'url_46-60']"
      ]
     },
     "execution_count": 11,
     "metadata": {},
     "output_type": "execute_result"
    }
   ],
   "source": [
    "chosen_features"
   ]
  }
 ],
 "metadata": {
  "kernelspec": {
   "display_name": "Python 3.8.3 ('py3env')",
   "language": "python",
   "name": "python3"
  },
  "language_info": {
   "codemirror_mode": {
    "name": "ipython",
    "version": 3
   },
   "file_extension": ".py",
   "mimetype": "text/x-python",
   "name": "python",
   "nbconvert_exporter": "python",
   "pygments_lexer": "ipython3",
   "version": "3.8.3"
  },
  "orig_nbformat": 4,
  "vscode": {
   "interpreter": {
    "hash": "d5ea06c7a26b0a568b20218ec0dd2c45580d247d57affd213d61a81137fa7306"
   }
  }
 },
 "nbformat": 4,
 "nbformat_minor": 2
}
