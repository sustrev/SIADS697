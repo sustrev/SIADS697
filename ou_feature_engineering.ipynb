{
 "cells": [
  {
   "cell_type": "markdown",
   "metadata": {},
   "source": [
    "# OU Feature Engineering\n",
    "#### This notebook is for doing feature engineering for the supervised learning (classification) problem for our capstone"
   ]
  },
  {
   "cell_type": "code",
   "execution_count": 1,
   "metadata": {},
   "outputs": [],
   "source": [
    "import pandas as pd\n",
    "import numpy as np\n",
    "import matplotlib.pyplot as plt"
   ]
  },
  {
   "cell_type": "code",
   "execution_count": 3,
   "metadata": {},
   "outputs": [],
   "source": [
    "def get_data():\n",
    "    assessments_raw = pd.read_csv(\"dataset/assessments.csv\")\n",
    "    courses_raw = pd.read_csv(\"dataset/courses.csv\")\n",
    "    student_assessment_raw = pd.read_csv(\"dataset/studentAssessment.csv\")\n",
    "    student_info_raw = pd.read_csv(\"dataset/studentInfo.csv\")\n",
    "    student_registration_raw = pd.read_csv(\"dataset/studentRegistration.csv\")\n",
    "    # If this is failing, ensure that you have downloaded the dataset and copied studentVle.csv \n",
    "    # to the dataset folder.\n",
    "    student_vle_raw = pd.read_csv(\"dataset/studentVle.csv\") \n",
    "    vle_raw = pd.read_csv(\"dataset/vle.csv\")\n",
    "\n",
    "    return {\n",
    "        \"assessments_raw\":assessments_raw,\n",
    "        \"courses_raw\":courses_raw,\n",
    "        \"student_assessment_raw\":student_assessment_raw,\n",
    "        \"student_info_raw\":student_info_raw,\n",
    "        \"student_registration_raw\":student_registration_raw,\n",
    "        \"student_vle_raw\":student_vle_raw,\n",
    "        \"vle_raw\":vle_raw\n",
    "    }"
   ]
  },
  {
   "cell_type": "code",
   "execution_count": 4,
   "metadata": {},
   "outputs": [],
   "source": [
    "# this is only used for testing purposes - comment out before saving as a module\n",
    "#data_dict = get_data()"
   ]
  },
  {
   "cell_type": "markdown",
   "metadata": {},
   "source": [
    "#### Add column indicating if student previously failed"
   ]
  },
  {
   "cell_type": "code",
   "execution_count": 128,
   "metadata": {},
   "outputs": [],
   "source": [
    "def did_not_prev_pass(df):\n",
    "    if len(df['final_result_y']) == 1:\n",
    "        return False\n",
    "    zipped = zip(df['code_presentation_y'], df['final_result_y'])\n",
    "    \n",
    "    # remove presentations that are at the same time of the current one or after\n",
    "    curr_presentation = df['code_presentation_x']\n",
    "    prior_final_results = [x[1] for x in zipped if x[0] < curr_presentation]\n",
    "\n",
    "    dnp_set = {\"Withdrawn\", \"Fail\"}\n",
    "    if len(dnp_set & set(prior_final_results)) > 0:\n",
    "        return True\n",
    "    return False\n",
    "    \n",
    "    \n",
    "\n",
    "# create a column that indicates whether or not the student has previously withdrawn or failed\n",
    "def add_col_student_prev_failed(student_info_df):\n",
    "    '''\n",
    "    Given the student info dataframe, add a column to indicate \n",
    "    '''\n",
    "    si = student_info_df.copy()\n",
    "\n",
    "    # this is a list of all students final results for each presentation\n",
    "    si_grouped = si[['id_student','code_module','code_presentation','final_result']].groupby(['id_student']).agg(list).reset_index()\n",
    "    merged = si.merge(si_grouped, left_on='id_student', right_on='id_student')\n",
    "    merged['prev_failed_or_withdrawn'] = merged.apply(did_not_prev_pass, axis=1)\n",
    "\n",
    "    print(si_grouped.columns)\n",
    "    print(merged.columns)\n",
    "\n",
    "    si = si.merge(\n",
    "                merged[['id_student','prev_failed_or_withdrawn', 'code_presentation_x','code_module_x']], \n",
    "                left_on=['id_student','code_presentation','code_module'],\n",
    "                right_on=['id_student','code_presentation_x','code_module_x']\n",
    "            ).drop(\n",
    "                columns=['code_presentation_x','code_module_x']\n",
    "            )\n",
    "    #si['has_prev_withdrawn_or_failed']\n",
    "    return si"
   ]
  },
  {
   "cell_type": "code",
   "execution_count": 127,
   "metadata": {},
   "outputs": [
    {
     "name": "stdout",
     "output_type": "stream",
     "text": [
      "Index(['id_student', 'code_module', 'code_presentation', 'final_result'], dtype='object')\n",
      "Index(['code_module_x', 'code_presentation_x', 'id_student', 'gender',\n",
      "       'region', 'highest_education', 'imd_band', 'age_band',\n",
      "       'num_of_prev_attempts', 'studied_credits', 'disability',\n",
      "       'final_result_x', 'code_module_y', 'code_presentation_y',\n",
      "       'final_result_y', 'prev_failed_or_withdrawn'],\n",
      "      dtype='object')\n",
      "(32593, 13)\n",
      "(32593, 12)\n"
     ]
    }
   ],
   "source": [
    "# test that it doesn't change number of rows, and increases columns by 1\n",
    "# si_test = si[si.id_student == 8462]\n",
    "#si_prev_failed = add_student_prev_failed(si)\n",
    "#print(si_prev_failed.shape)\n",
    "#print(si.shape)"
   ]
  },
  {
   "cell_type": "code",
   "execution_count": 103,
   "metadata": {},
   "outputs": [
    {
     "data": {
      "text/plain": [
       "<AxesSubplot:>"
      ]
     },
     "execution_count": 103,
     "metadata": {},
     "output_type": "execute_result"
    },
    {
     "data": {
      "image/png": "[encoded data removed]",
      "text/plain": [
       "<Figure size 432x288 with 1 Axes>"
      ]
     },
     "metadata": {
      "needs_background": "light"
     },
     "output_type": "display_data"
    }
   ],
   "source": [
    "\n",
    "# is the distribution of final_result of the students who have previously failed/withdrawn different from \n",
    "# the other students?\n",
    "# Answer: it appears that they are different from the two plots. Commented out to make this notebook import friendly!\n",
    "\n",
    "# import matplotlib.pyplot as plt\n",
    "\n",
    "# si_prev_failed[si_prev_failed.prev_failed == False]['final_result'].value_counts().plot(kind='bar')"
   ]
  },
  {
   "cell_type": "code",
   "execution_count": 104,
   "metadata": {},
   "outputs": [
    {
     "data": {
      "text/plain": [
       "<AxesSubplot:>"
      ]
     },
     "execution_count": 104,
     "metadata": {},
     "output_type": "execute_result"
    },
    {
     "data": {
      "image/png": "[encoded data removed]",
      "text/plain": [
       "<Figure size 432x288 with 1 Axes>"
      ]
     },
     "metadata": {
      "needs_background": "light"
     },
     "output_type": "display_data"
    }
   ],
   "source": [
    "# si_prev_failed[si_prev_failed.prev_failed == True]['final_result'].value_counts().plot(kind='bar')"
   ]
  },
  {
   "cell_type": "markdown",
   "metadata": {},
   "source": [
    "#### Add column indicating if student is minority"
   ]
  },
  {
   "cell_type": "code",
   "execution_count": 313,
   "metadata": {},
   "outputs": [],
   "source": [
    "from sklearn.cluster import DBSCAN\n",
    "from sklearn.neighbors import NearestNeighbors\n",
    "\n",
    "def add_col_is_student_minority(student_info_df):\n",
    "    si = student_info_df.copy()\n",
    "\n",
    "    # student being a minority can different from class to class. Create a clustering \n",
    "    # for each module-presentation\n",
    "    #print(si.head())\n",
    "    si_grouped = si.groupby(['code_module','code_presentation'])\n",
    "\n",
    "    minority_columns = ['highest_education','age_band','disability','gender','imd_band']\n",
    "\n",
    "    df_class_list = [v for k,v in si_grouped]\n",
    "    count = 0\n",
    "    for df in df_class_list:\n",
    "        df_with_dummies = pd.get_dummies(df[minority_columns])\n",
    "        print(df_with_dummies.columns)\n",
    "        num_students = df.shape[0]\n",
    "        clustering = DBSCAN(eps=1.4143, min_samples=int(.1*num_students)).fit(df_with_dummies)\n",
    "        df_with_dummies['cluster'] = clustering.labels_\n",
    "        df['cluster'] = clustering.labels_\n",
    "        print(df_with_dummies['cluster'].value_counts())\n",
    "        plot_NN_distances(df_with_dummies)\n",
    "        #plot_pca(df_with_dummies, 'cluster')\n",
    "        #plot_tsne(df, 'cluster')\n",
    "        if count >= 0:\n",
    "            break\n",
    "        count += 1\n",
    "    \n",
    "\n",
    "    return df_class_list\n"
   ]
  },
  {
   "cell_type": "code",
   "execution_count": 316,
   "metadata": {},
   "outputs": [
    {
     "name": "stdout",
     "output_type": "stream",
     "text": [
      "Index(['highest_education_A Level or Equivalent',\n",
      "       'highest_education_HE Qualification',\n",
      "       'highest_education_Lower Than A Level',\n",
      "       'highest_education_Post Graduate Qualification', 'age_band_0-35',\n",
      "       'age_band_35-55', 'age_band_55<=', 'disability_N', 'disability_Y',\n",
      "       'gender_F', 'gender_M', 'imd_band_0-10%', 'imd_band_10-20',\n",
      "       'imd_band_20-30%', 'imd_band_30-40%', 'imd_band_40-50%',\n",
      "       'imd_band_50-60%', 'imd_band_60-70%', 'imd_band_70-80%',\n",
      "       'imd_band_80-90%', 'imd_band_90-100%'],\n",
      "      dtype='object')\n",
      " 0    365\n",
      "-1     18\n",
      "Name: cluster, dtype: int64\n",
      "   highest_education_A Level or Equivalent  \\\n",
      "0                                        0   \n",
      "1                                        0   \n",
      "2                                        1   \n",
      "3                                        1   \n",
      "4                                        0   \n",
      "\n",
      "   highest_education_HE Qualification  highest_education_Lower Than A Level  \\\n",
      "0                                   1                                     0   \n",
      "1                                   1                                     0   \n",
      "2                                   0                                     0   \n",
      "3                                   0                                     0   \n",
      "4                                   0                                     1   \n",
      "\n",
      "   highest_education_Post Graduate Qualification  age_band_0-35  \\\n",
      "0                                              0              0   \n",
      "1                                              0              0   \n",
      "2                                              0              0   \n",
      "3                                              0              0   \n",
      "4                                              0              1   \n",
      "\n",
      "   age_band_35-55  age_band_55<=  disability_N  disability_Y  gender_F  ...  \\\n",
      "0               0              1             1             0         0  ...   \n",
      "1               1              0             1             0         1  ...   \n",
      "2               1              0             0             1         1  ...   \n",
      "3               1              0             1             0         1  ...   \n",
      "4               0              0             1             0         1  ...   \n",
      "\n",
      "   imd_band_10-20  imd_band_20-30%  imd_band_30-40%  imd_band_40-50%  \\\n",
      "0               0                0                0                0   \n",
      "1               0                1                0                0   \n",
      "2               0                0                1                0   \n",
      "3               0                0                0                0   \n",
      "4               0                0                0                0   \n",
      "\n",
      "   imd_band_50-60%  imd_band_60-70%  imd_band_70-80%  imd_band_80-90%  \\\n",
      "0                0                0                0                0   \n",
      "1                0                0                0                0   \n",
      "2                0                0                0                0   \n",
      "3                1                0                0                0   \n",
      "4                1                0                0                0   \n",
      "\n",
      "   imd_band_90-100%  cluster  \n",
      "0                 1        0  \n",
      "1                 0        0  \n",
      "2                 0        0  \n",
      "3                 0        0  \n",
      "4                 0        0  \n",
      "\n",
      "[5 rows x 22 columns]\n"
     ]
    },
    {
     "data": {
      "image/png": "[encoded data removed]",
      "text/plain": [
       "<Figure size 432x288 with 1 Axes>"
      ]
     },
     "metadata": {
      "needs_background": "light"
     },
     "output_type": "display_data"
    }
   ],
   "source": [
    "test_ = add_col_is_student_minority(si)\n",
    "#test_[0][test_[0].cluster == -1]"
   ]
  },
  {
   "cell_type": "code",
   "execution_count": 315,
   "metadata": {},
   "outputs": [],
   "source": [
    "from sklearn.decomposition import PCA\n",
    "import seaborn as sns \n",
    "\n",
    "# code adapted from: https://towardsdatascience.com/machine-learning-clustering-dbscan-determine-the-optimal-value-for-epsilon-eps-python-example-3100091cfbc\n",
    "def plot_NN_distances(df):\n",
    "    print(df.head())\n",
    "    # plot distances - used for determining epsilon of dbscan\n",
    "    num_students = df.shape[0]\n",
    "    neigh = NearestNeighbors(n_neighbors=10)\n",
    "    nbrs = neigh.fit(df)\n",
    "    distances, indices = nbrs.kneighbors(df)\n",
    "    distances = np.sort(distances, axis=0)\n",
    "    distances = distances[:,1]\n",
    "    #print(distances)\n",
    "    plt.plot(distances)\n",
    "\n",
    "\n",
    "# code adapted from: https://towardsdatascience.com/visualising-high-dimensional-datasets-using-pca-and-t-sne-in-python-8ef87e7915b\n",
    "def plot_pca(df, label_column):\n",
    "    # plot dataframe using PCA and coloring on label_column\n",
    "    pca = PCA(n_components=2)\n",
    "    pca_result = pca.fit_transform(df.drop(columns=label_column).values)\n",
    "    df['pca-one'] = pca_result[:,0]\n",
    "    df['pca-two'] = pca_result[:,1]\n",
    "    sns.scatterplot(\n",
    "        x='pca-one',\n",
    "        y='pca-two',\n",
    "        hue=label_column,\n",
    "        data=df\n",
    "    )\n",
    "    plt.show()\n",
    "\n",
    "\n",
    "#def plot_tsne(df, label_colum):\n",
    "#    # plot df using tsne for dimension reduction and color on label_column"
   ]
  },
  {
   "cell_type": "code",
   "execution_count": 312,
   "metadata": {},
   "outputs": [],
   "source": [
    "\n",
    "#print(si.sample(frac=1).head())\n",
    "#add_col_is_student_minority(si.sample(frac=1))"
   ]
  },
  {
   "cell_type": "code",
   "execution_count": 148,
   "metadata": {},
   "outputs": [
    {
     "name": "stdout",
     "output_type": "stream",
     "text": [
      "  code_module code_presentation  id_student gender                region  \\\n",
      "0         AAA             2013J       11391      M   East Anglian Region   \n",
      "1         AAA             2013J       28400      F              Scotland   \n",
      "2         AAA             2013J       30268      F  North Western Region   \n",
      "3         AAA             2013J       31604      F     South East Region   \n",
      "4         AAA             2013J       32885      F  West Midlands Region   \n",
      "\n",
      "       highest_education imd_band age_band  num_of_prev_attempts  \\\n",
      "0       HE Qualification  90-100%     55<=                     0   \n",
      "1       HE Qualification   20-30%    35-55                     0   \n",
      "2  A Level or Equivalent   30-40%    35-55                     0   \n",
      "3  A Level or Equivalent   50-60%    35-55                     0   \n",
      "4     Lower Than A Level   50-60%     0-35                     0   \n",
      "\n",
      "   studied_credits disability final_result  \n",
      "0              240          N         Pass  \n",
      "1               60          N         Pass  \n",
      "2               60          Y    Withdrawn  \n",
      "3               60          N         Pass  \n",
      "4               60          N         Pass  \n",
      "    code_module code_presentation  id_student gender               region  \\\n",
      "383         AAA             2014J        6516      M             Scotland   \n",
      "384         AAA             2014J       24734      F         South Region   \n",
      "385         AAA             2014J       26192      F  East Anglian Region   \n",
      "386         AAA             2014J       28061      M     Yorkshire Region   \n",
      "387         AAA             2014J       31600      F    South West Region   \n",
      "\n",
      "         highest_education imd_band age_band  num_of_prev_attempts  \\\n",
      "383       HE Qualification   80-90%     55<=                     0   \n",
      "384     Lower Than A Level   60-70%     0-35                     0   \n",
      "385  A Level or Equivalent   60-70%    35-55                     0   \n",
      "386     Lower Than A Level   40-50%    35-55                     0   \n",
      "387  A Level or Equivalent   40-50%     0-35                     0   \n",
      "\n",
      "     studied_credits disability final_result  \n",
      "383               60          N         Pass  \n",
      "384               60          N         Pass  \n",
      "385               60          N  Distinction  \n",
      "386               60          N         Pass  \n",
      "387               60          N         Pass  \n"
     ]
    }
   ],
   "source": [
    "si_grouped_test = [v for k, v in si.groupby(['code_module','code_presentation'])]\n",
    "print(si_grouped_test[0].head())\n",
    "print(si_grouped_test[1].head())\n",
    "\n",
    "#si_grouped_keys = list(si_grouped_test.groups.keys())\n",
    "#si_grouped_test.iloc[si_grouped_test.groups[si_grouped_keys[0]]]\n"
   ]
  },
  {
   "cell_type": "code",
   "execution_count": null,
   "metadata": {},
   "outputs": [],
   "source": []
  }
 ],
 "metadata": {
  "kernelspec": {
   "display_name": "Python 3.10.5 64-bit",
   "language": "python",
   "name": "python3"
  },
  "language_info": {
   "codemirror_mode": {
    "name": "ipython",
    "version": 3
   },
   "file_extension": ".py",
   "mimetype": "text/x-python",
   "name": "python",
   "nbconvert_exporter": "python",
   "pygments_lexer": "ipython3",
   "version": "3.10.5"
  },
  "orig_nbformat": 4,
  "vscode": {
   "interpreter": {
    "hash": "de7495c843f32c5ed741c5a0a2e4f65ffadd39dc2c3987faa5c68525a757f4e4"
   }
  }
 },
 "nbformat": 4,
 "nbformat_minor": 2
}
