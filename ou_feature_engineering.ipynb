{
 "cells": [
  {
   "cell_type": "markdown",
   "metadata": {},
   "source": [
    "# OU Feature Engineering\n",
    "#### This notebook is for doing feature engineering for the supervised learning (classification) problem for our capstone"
   ]
  },
  {
   "cell_type": "code",
   "execution_count": 1,
   "metadata": {},
   "outputs": [],
   "source": [
    "import pandas as pd\n",
    "import numpy as np\n",
    "import matplotlib.pyplot as plt"
   ]
  },
  {
   "cell_type": "code",
   "execution_count": 3,
   "metadata": {},
   "outputs": [],
   "source": [
    "def get_data():\n",
    "    assessments_raw = pd.read_csv(\"dataset/assessments.csv\")\n",
    "    courses_raw = pd.read_csv(\"dataset/courses.csv\")\n",
    "    student_assessment_raw = pd.read_csv(\"dataset/studentAssessment.csv\")\n",
    "    student_info_raw = pd.read_csv(\"dataset/studentInfo.csv\")\n",
    "    student_registration_raw = pd.read_csv(\"dataset/studentRegistration.csv\")\n",
    "    # If this is failing, ensure that you have downloaded the dataset and copied studentVle.csv \n",
    "    # to the dataset folder.\n",
    "    student_vle_raw = pd.read_csv(\"dataset/studentVle.csv\") \n",
    "    vle_raw = pd.read_csv(\"dataset/vle.csv\")\n",
    "\n",
    "    return {\n",
    "        \"assessments_raw\":assessments_raw,\n",
    "        \"courses_raw\":courses_raw,\n",
    "        \"student_assessment_raw\":student_assessment_raw,\n",
    "        \"student_info_raw\":student_info_raw,\n",
    "        \"student_registration_raw\":student_registration_raw,\n",
    "        \"student_vle_raw\":student_vle_raw,\n",
    "        \"vle_raw\":vle_raw\n",
    "    }"
   ]
  },
  {
   "cell_type": "code",
   "execution_count": 4,
   "metadata": {},
   "outputs": [],
   "source": [
    "# this is only used for testing purposes - comment out before saving as a module\n",
    "#data_dict = get_data()"
   ]
  },
  {
   "cell_type": "code",
   "execution_count": 128,
   "metadata": {},
   "outputs": [],
   "source": [
    "def did_not_prev_pass(df):\n",
    "    if len(df['final_result_y']) == 1:\n",
    "        return False\n",
    "    zipped = zip(df['code_presentation_y'], df['final_result_y'])\n",
    "    \n",
    "    # remove presentations that are at the same time of the current one or after\n",
    "    curr_presentation = df['code_presentation_x']\n",
    "    prior_final_results = [x[1] for x in zipped if x[0] < curr_presentation]\n",
    "\n",
    "    dnp_set = {\"Withdrawn\", \"Fail\"}\n",
    "    if len(dnp_set & set(prior_final_results)) > 0:\n",
    "        return True\n",
    "    return False\n",
    "    \n",
    "    \n",
    "\n",
    "# create a column that indicates whether or not the student has previously withdrawn or failed\n",
    "def add_col_student_prev_failed(student_info_df):\n",
    "    '''\n",
    "    Given the student info dataframe, add a column to indicate \n",
    "    '''\n",
    "    si = student_info_df.copy()\n",
    "\n",
    "    # this is a list of all students final results for each presentation\n",
    "    si_grouped = si[['id_student','code_module','code_presentation','final_result']].groupby(['id_student']).agg(list).reset_index()\n",
    "    merged = si.merge(si_grouped, left_on='id_student', right_on='id_student')\n",
    "    merged['prev_failed_or_withdrawn'] = merged.apply(did_not_prev_pass, axis=1)\n",
    "\n",
    "    print(si_grouped.columns)\n",
    "    print(merged.columns)\n",
    "\n",
    "    si = si.merge(\n",
    "                merged[['id_student','prev_failed_or_withdrawn', 'code_presentation_x','code_module_x']], \n",
    "                left_on=['id_student','code_presentation','code_module'],\n",
    "                right_on=['id_student','code_presentation_x','code_module_x']\n",
    "            ).drop(\n",
    "                columns=['code_presentation_x','code_module_x']\n",
    "            )\n",
    "    #si['has_prev_withdrawn_or_failed']\n",
    "    return si"
   ]
  },
  {
   "cell_type": "code",
   "execution_count": 127,
   "metadata": {},
   "outputs": [
    {
     "name": "stdout",
     "output_type": "stream",
     "text": [
      "Index(['id_student', 'code_module', 'code_presentation', 'final_result'], dtype='object')\n",
      "Index(['code_module_x', 'code_presentation_x', 'id_student', 'gender',\n",
      "       'region', 'highest_education', 'imd_band', 'age_band',\n",
      "       'num_of_prev_attempts', 'studied_credits', 'disability',\n",
      "       'final_result_x', 'code_module_y', 'code_presentation_y',\n",
      "       'final_result_y', 'prev_failed_or_withdrawn'],\n",
      "      dtype='object')\n",
      "(32593, 13)\n",
      "(32593, 12)\n"
     ]
    }
   ],
   "source": [
    "# test that it doesn't change number of rows, and increases columns by 1\n",
    "# si_test = si[si.id_student == 8462]\n",
    "#si_prev_failed = add_student_prev_failed(si)\n",
    "#print(si_prev_failed.shape)\n",
    "#print(si.shape)"
   ]
  },
  {
   "cell_type": "code",
   "execution_count": 103,
   "metadata": {},
   "outputs": [
    {
     "data": {
      "text/plain": [
       "<AxesSubplot:>"
      ]
     },
     "execution_count": 103,
     "metadata": {},
     "output_type": "execute_result"
    },
    {
     "data": {
      "image/png": "[encoded data removed]",
      "text/plain": [
       "<Figure size 432x288 with 1 Axes>"
      ]
     },
     "metadata": {
      "needs_background": "light"
     },
     "output_type": "display_data"
    }
   ],
   "source": [
    "\n",
    "# is the distribution of final_result of the students who have previously failed/withdrawn different from \n",
    "# the other students?\n",
    "# Answer: it appears that they are different from the two plots. Commented out to make this notebook import friendly!\n",
    "\n",
    "# import matplotlib.pyplot as plt\n",
    "\n",
    "# si_prev_failed[si_prev_failed.prev_failed == False]['final_result'].value_counts().plot(kind='bar')"
   ]
  },
  {
   "cell_type": "code",
   "execution_count": 104,
   "metadata": {},
   "outputs": [
    {
     "data": {
      "text/plain": [
       "<AxesSubplot:>"
      ]
     },
     "execution_count": 104,
     "metadata": {},
     "output_type": "execute_result"
    },
    {
     "data": {
      "image/png": "[encoded data removed]",
      "text/plain": [
       "<Figure size 432x288 with 1 Axes>"
      ]
     },
     "metadata": {
      "needs_background": "light"
     },
     "output_type": "display_data"
    }
   ],
   "source": [
    "# si_prev_failed[si_prev_failed.prev_failed == True]['final_result'].value_counts().plot(kind='bar')"
   ]
  },
  {
   "cell_type": "code",
   "execution_count": null,
   "metadata": {},
   "outputs": [],
   "source": []
  }
 ],
 "metadata": {
  "kernelspec": {
   "display_name": "Python 3.10.5 64-bit",
   "language": "python",
   "name": "python3"
  },
  "language_info": {
   "codemirror_mode": {
    "name": "ipython",
    "version": 3
   },
   "file_extension": ".py",
   "mimetype": "text/x-python",
   "name": "python",
   "nbconvert_exporter": "python",
   "pygments_lexer": "ipython3",
   "version": "3.10.5"
  },
  "orig_nbformat": 4,
  "vscode": {
   "interpreter": {
    "hash": "de7495c843f32c5ed741c5a0a2e4f65ffadd39dc2c3987faa5c68525a757f4e4"
   }
  }
 },
 "nbformat": 4,
 "nbformat_minor": 2
}
